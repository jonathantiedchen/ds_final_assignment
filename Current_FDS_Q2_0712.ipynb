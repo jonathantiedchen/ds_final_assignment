{
 "cells": [
  {
   "cell_type": "markdown",
   "metadata": {},
   "source": [
    "# Final Project - Foundations of Data Science: Programming and Linear Algebra (CDSCO1001U)"
   ]
  },
  {
   "cell_type": "markdown",
   "metadata": {},
   "source": [
    "# JONATHAN CODE"
   ]
  },
  {
   "cell_type": "markdown",
   "metadata": {},
   "source": [
    "### Procedure:\n",
    "- Two classes\n",
    "- Use Hamming_Encoder class to conduct Encoding and Parity Check\n",
    "- Use resulting codeword created in Hamming_Encoder as input in Hamming_Decoder class to decode codeword."
   ]
  },
  {
   "cell_type": "code",
   "execution_count": 4,
   "metadata": {},
   "outputs": [],
   "source": [
    "import numpy as np"
   ]
  },
  {
   "cell_type": "markdown",
   "metadata": {},
   "source": [
    "### 2.1 Hamming Encoder: Encoding & Parity Check"
   ]
  },
  {
   "cell_type": "code",
   "execution_count": 19,
   "metadata": {},
   "outputs": [],
   "source": [
    "class Hamming_Encoder:\n",
    "    def __init__(self):\n",
    "        \n",
    "        # Define Encoder Matrix G as defined in Task 3.\n",
    "        self.G = np.array([\n",
    "                    [1,1,0,1], \n",
    "                    [1,0,1,1], \n",
    "                    [1,0,0,0], \n",
    "                    [0,1,1,1], \n",
    "                    [0,1,0,0], \n",
    "                    [0,0,1,0], \n",
    "                    [0,0,0,1]])\n",
    "        \n",
    "        # Define Parity Check Matrix H as described in Task 3.\n",
    "        self.H = np.array([\n",
    "                    [1,0,1,0,1,0,1],\n",
    "                    [0,1,1,0,0,1,1],\n",
    "                    [0,0,0,1,1,1,1]])\n",
    "    \n",
    "    # Encoder function:    \n",
    "    def encoder(self, value):\n",
    "        # Value must be a 4-bit binary value. Check len to gurantee a list of four entries.\n",
    "        if len(value) != 4 or type(value) != list:\n",
    "            raise ValueError(\"Input must be of 4-bit list of binary values!\")\n",
    "        \n",
    "        for i in value:\n",
    "            if i != 0 and i != 1:\n",
    "                raise ValueError(\"Input list must only inlcude binary values.\")\n",
    "        \n",
    "        encode_vector = np.array(value)\n",
    "        \n",
    "        # Create codeword by computing dot product of G and w as described in task.\n",
    "        # Apply %2 on the dorproduct for binary encoding\n",
    "        self.codeword = np.dot(self.G, encode_vector) % 2 # %2 for binary decoding! => Source\n",
    "        \n",
    "        #returns a codeword that is (7,1) vector\n",
    "        print(f\"The binary codeword is: {self.codeword}\")\n",
    "        \n",
    "    # Parity Check function:\n",
    "    def parity_check(self, codeword):\n",
    "        # Check that codeword is indeed a 7-bit vector.\n",
    "        if len(codeword) != 7 or type(codeword) != list:\n",
    "            raise ValueError(\"Codeword must be a 7-bit list of binary values.\")\n",
    "        \n",
    "        for i in codeword:\n",
    "            if i != 0 and i != 1:\n",
    "                raise ValueError(\"Input list must only inlcude binary values.\")\n",
    "                \n",
    "        # Safe codeword as array\n",
    "        codeword_vector = np.array(codeword)\n",
    "        \n",
    "        #Calculate parity check by computing dot product of H and codeword as described in task\n",
    "        # Apply %2 on the dorproduct for binary encoding\n",
    "        parity_result = np.dot(self.H, codeword_vector) % 2\n",
    "        \n",
    "        # Implement Case distinciton:\n",
    "        if np.all(parity_result == 0):\n",
    "            print(f\"The parity check was successful. A valid codeword was used.\")\n",
    "        else:\n",
    "            get_index = np.where(np.all(self.H.T == parity_result, axis = 1))\n",
    "            print(f\"There is an error in the codeword at position: {get_index[0]+1}\")\n",
    "    \n",
    "    def get_codeword(self): \n",
    "        return self.codeword"
   ]
  },
  {
   "cell_type": "code",
   "execution_count": 20,
   "metadata": {},
   "outputs": [],
   "source": [
    "Hamming_Test2 = Hamming_Encoder()"
   ]
  },
  {
   "cell_type": "code",
   "execution_count": 21,
   "metadata": {},
   "outputs": [],
   "source": [
    "vector2_test = [1,0,1,1]"
   ]
  },
  {
   "cell_type": "code",
   "execution_count": 22,
   "metadata": {},
   "outputs": [
    {
     "name": "stdout",
     "output_type": "stream",
     "text": [
      "The binary codeword is: [0 1 1 0 0 1 1]\n"
     ]
    }
   ],
   "source": [
    "# Encode 4-bit binary vector:\n",
    "Hamming_Test2.encoder(vector2_test)"
   ]
  },
  {
   "cell_type": "code",
   "execution_count": 23,
   "metadata": {},
   "outputs": [
    {
     "data": {
      "text/plain": [
       "array([0, 1, 1, 0, 0, 1, 1])"
      ]
     },
     "execution_count": 23,
     "metadata": {},
     "output_type": "execute_result"
    }
   ],
   "source": [
    "# Get resulting codeword\n",
    "Hamming_Test2.get_codeword()"
   ]
  },
  {
   "cell_type": "code",
   "execution_count": 26,
   "metadata": {},
   "outputs": [
    {
     "name": "stdout",
     "output_type": "stream",
     "text": [
      "The parity check was successful. A valid codeword was added\n"
     ]
    }
   ],
   "source": [
    "# Insert correct codeword:\n",
    "Hamming_Test2.parity_check([0, 1, 1, 0, 0, 1, 1])"
   ]
  },
  {
   "cell_type": "code",
   "execution_count": 27,
   "metadata": {},
   "outputs": [
    {
     "name": "stdout",
     "output_type": "stream",
     "text": [
      "There is an error in the codeword at position: [2]\n"
     ]
    }
   ],
   "source": [
    "# Insert invalid codeword (position 2 changed):\n",
    "Hamming_Test2.parity_check([0, 0, 1, 0, 0, 1, 1])"
   ]
  },
  {
   "cell_type": "markdown",
   "metadata": {},
   "source": [
    "### Decoder"
   ]
  },
  {
   "cell_type": "code",
   "execution_count": 28,
   "metadata": {},
   "outputs": [],
   "source": [
    "# What is the problem with R? How to inherit \n",
    "class Hamming_Decoder():\n",
    "    \n",
    "    def __init__(self):\n",
    "        \n",
    "        #Define Decoder Matrix R as described in task \n",
    "        self.R = np.array([\n",
    "                    [0,0,1,0,0,0,0],\n",
    "                    [0,0,0,0,1,0,0],\n",
    "                    [0,0,0,0,0,1,0],\n",
    "                    [0,0,0,0,0,0,1]])\n",
    "        \n",
    "        self.H = np.array([\n",
    "                    [1,0,1,0,1,0,1],\n",
    "                    [0,1,1,0,0,1,1],\n",
    "                    [0,0,0,1,1,1,1]])\n",
    "    \n",
    "    # Define decoder function\n",
    "    def decoder(self, codeword):\n",
    "        \n",
    "        # Check that inserted codeword is a list of 7 binary values:\n",
    "        if len(codeword) != 7 or type(codeword) != list:\n",
    "                raise ValueError(\"Codeword must be a 7-digit binary codeword\")\n",
    "\n",
    "        for i in codeword:\n",
    "            if i != 0 and i != 1:\n",
    "                raise ValueError(\"Codeword must only include binary values.\")\n",
    "\n",
    "        #Calculate parity result:\n",
    "        parity_result = np.dot(self.H, codeword) % 2\n",
    "        \n",
    "        # Check whether parity check result in the null vector.\n",
    "        # If so, encoding is correct and decoded codeword yields the correct encoded information.\n",
    "        if np.all(parity_result == 0):\n",
    "            decoded_value = np.dot(self.R, codeword) % 2\n",
    "        \n",
    "        # If party check does not result in null vector:\n",
    "        else:\n",
    "            #Check which column of parity matrix (Matrix_H) coincides with the result of the parity check\n",
    "            # Matrix_H is transposed due for easier iteration and index of the column is extracted.\n",
    "            check_similarity = np.where(np.all(self.H.T == parity_result, axis = 1))\n",
    "            get_index = check_similarity[0]\n",
    "            # This index indicates the error position in the codeword.\n",
    "            # zeros are corrected to ones and vice versa\n",
    "            if codeword[get_index[0]] == 0:\n",
    "                codeword[get_index[0]] = 1\n",
    "            else: \n",
    "                codeword[get_index[0]] = 0\n",
    "            #Decode codeword after correcting the code word:\n",
    "            decoded_value = np.dot(self.R, codeword) % 2\n",
    "\n",
    "        return print(f\"The decoded original word is: {decoded_value}\")"
   ]
  },
  {
   "cell_type": "code",
   "execution_count": 29,
   "metadata": {},
   "outputs": [],
   "source": [
    "DecoderTest1 = Hamming_Decoder()"
   ]
  },
  {
   "cell_type": "code",
   "execution_count": 31,
   "metadata": {
    "scrolled": true
   },
   "outputs": [
    {
     "data": {
      "text/plain": [
       "array([0, 1, 1, 0, 0, 1, 1])"
      ]
     },
     "execution_count": 31,
     "metadata": {},
     "output_type": "execute_result"
    }
   ],
   "source": [
    "# Get codeword from encoded 4-bit vector:\n",
    "Hamming_Test2.get_codeword()"
   ]
  },
  {
   "cell_type": "code",
   "execution_count": 32,
   "metadata": {},
   "outputs": [
    {
     "name": "stdout",
     "output_type": "stream",
     "text": [
      "The decoded original word is: [1 0 1 1]\n"
     ]
    }
   ],
   "source": [
    "#Enter correct codeword:\n",
    "DecoderTest1.decoder([0, 1, 1, 0, 0, 1, 1])"
   ]
  },
  {
   "cell_type": "code",
   "execution_count": 33,
   "metadata": {},
   "outputs": [
    {
     "name": "stdout",
     "output_type": "stream",
     "text": [
      "The decoded original word is: [1 0 1 1]\n"
     ]
    }
   ],
   "source": [
    "# Enter one-bit error in codeword (position 5 changed) => still results on the correct original word:\n",
    "DecoderTest1.decoder([0, 1, 1, 0, 1, 1, 1])"
   ]
  }
 ],
 "metadata": {
  "kernelspec": {
   "display_name": "Python 3",
   "language": "python",
   "name": "python3"
  },
  "language_info": {
   "codemirror_mode": {
    "name": "ipython",
    "version": 3
   },
   "file_extension": ".py",
   "mimetype": "text/x-python",
   "name": "python",
   "nbconvert_exporter": "python",
   "pygments_lexer": "ipython3",
   "version": "3.8.5"
  }
 },
 "nbformat": 4,
 "nbformat_minor": 4
}

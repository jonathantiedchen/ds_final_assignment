{
 "cells": [
  {
   "cell_type": "code",
   "execution_count": 95,
   "metadata": {
    "id": "JAVSkK_mAHJY"
   },
   "outputs": [],
   "source": [
    "#With this cell, all validation/exception handling functions are implemented\n",
    "#\n",
    "\n",
    "def check_pos_int(x, case):\n",
    "    \"\"\"Since several functions in this implementation of the subnumpy library take positive integers as input, it makes sense\n",
    "    to implement the exception handling once in a function to avoid redundancies in the code and make it more modular.\n",
    "    This function is used for checking the input numbers within tuples. It distinguished between case 1, 2, and 3 to give a more precise\n",
    "    and descriptive exception string.\n",
    "\n",
    "\n",
    "    Input:\n",
    "    Given input x by the user for a function, where a positive integer is expected.\n",
    "    Case distinguished between check of simple numeric input (1), first element of tuple (2), and second element of tuple (3).\n",
    "    \"\"\"\n",
    "    m_exception = \"\"\n",
    "    if (not isinstance(case, int)) or case > 3 or case < 1:\n",
    "        raise Exception(\"No such case \" + f\"{case} \" + \"second argument must be integer between 1 and 3 inclusively.\")\n",
    "    elif case == 1:\n",
    "        m_exception = \"The argument given (\"\n",
    "    elif case == 2:\n",
    "        m_exception = \"The first element of the tuple (\"\n",
    "    elif case == 3:\n",
    "        m_exception = \"The second element of the tuple (\"\n",
    "\n",
    "    if not isinstance(x, int):\n",
    "        raise Exception(m_exception + f\"{x}\" + \") is no integer.\")\n",
    "    elif isinstance(x, int) and x < 1:\n",
    "        raise Exception(m_exception + f\"{x}\" + \") is an integer smaller than 1.\")\n",
    "\n",
    "def check_tuple(t):\n",
    "    \"\"\"\n",
    "    This function checks the validity of numeric tuples. The input shall be a tuple with two elements and consist of positiv integers.\n",
    "    For the letter, the fuction check_pos_int is used on both elements of the argument - in case the former is fulfilled.\n",
    "    \"\"\"\n",
    "    if not isinstance(t, tuple):\n",
    "        raise Exception(\"The second argument(\" + f\"{t}\" + \")is not a tuple.\")\n",
    "    elif len(t) != 2:\n",
    "        raise Exception(\"The second argument(\" + f\"{t}\" + \")is not a tuple of length 2.\")\n",
    "    t0 = t[0]\n",
    "    t1 = t[1]\n",
    "    check_pos_int(t0, 2)\n",
    "    check_pos_int(t1, 3)\n",
    "\n",
    "def check_arr(v):\n",
    "    \"\"\"\n",
    "    This vector iterates through the vector and checks, if it has only numeric values. Raises exception if requirement not fulfilled.\n",
    "    \"\"\"\n",
    "    dim = len(v)\n",
    "    for i in range(dim):\n",
    "        if not(isinstance(v[i], int) or isinstance(v[i], float)):\n",
    "            raise Exception(\"The vector (\"+ f\"{v}\" +\") does not consist of numeric values only.\")\n",
    "\n",
    "def check_matrix_vector(v_m):\n",
    "    \"\"\"\n",
    "    A matrix/vector is implemented as an array of array, in which each array is one row of the matrix/vector.\n",
    "    To be a valid matrix/vector, m must be an array consisting of only numeric arrays of which all have the same length.\n",
    "    \"\"\"\n",
    "    n_rows = len(v_m)\n",
    "    if not isinstance(v_m, list):\n",
    "        raise Exception(\"Wrong input type - shall be array\")\n",
    "    if n_rows < 1:\n",
    "        raise Exception(\"Matrix has no values.\")\n",
    "    for i in range(n_rows-1):\n",
    "        n1 = len(v_m[i])\n",
    "        n2 = len(v_m[i+1])\n",
    "        if n1 != n2:\n",
    "            raise Exception(\"Matrix/Vector is not well defined - shall have same number of row entries for every row.\")\n",
    "    for row in range(n_rows-1):\n",
    "        for col in range(n1):\n",
    "            if not(isinstance(v_m[row][col], int) or isinstance(v_m[row][col], float)):\n",
    "                raise Exception(\"The vector (\"+ f\"{v}\" +\") does not consist of numeric values only.\")\n",
    "\n",
    "def augmented(matrix, vector):\n",
    "    \"\"\"\n",
    "    This function concatenates a matrix and a vector to an augmented matrix. Validity checks are made before this function is called.\n",
    "    \"\"\"\n",
    "    ####error handling tbd\n",
    "    m = len(matrix)\n",
    "    for i in range(m):\n",
    "        matrix[i].append(vector[i])\n",
    "    return matrix\n",
    "\n",
    "def swap(matrix, index):\n",
    "    \"\"\"\n",
    "    This function helps to swap rows in respect to the pivot values so that zeros are swapped to the bottom rows.\n",
    "    It is called for bring rows in the right order regarding the values in the column given as the input argument <<index>>.\n",
    "\n",
    "    \"\"\"\n",
    "    m, n = snp.shape(matrix)\n",
    "    #the check for leading zeros in a certain column must only be done for the rows down from the index_th row because the row above can be assumed to be in the echelon form already\n",
    "    for row_idx in range(index, m):\n",
    "        #the swap must only be carried out if the respective value is equal to zero\n",
    "        if matrix[row_idx][index] != 0:\n",
    "            continue\n",
    "        else:\n",
    "            #for the swap, a row with a value in the index_th position not equal to zero is searched\n",
    "            for row_comp in range(row_idx+1, m):\n",
    "                if matrix[row_comp][index] != 0:\n",
    "                    #for a potential swap, one row must be saved in another variable\n",
    "                    row_store = matrix[row_idx]\n",
    "                    #swap is carried out by exchanging the position of the rows\n",
    "                    matrix[row_idx] = matrix[row_comp]\n",
    "                    matrix[row_comp] = row_store\n",
    "                    break\n",
    "    return matrix\n",
    "\n",
    "#TBD: Echelon\n",
    "def echelon(matrix):\n",
    "    \"\"\"\n",
    "    This function calculates the echelon form of a square matrix.\n",
    "    \"\"\"\n",
    "    check_matrix_vector(matrix)\n",
    "    m, n = snp.shape(matrix)\n",
    "    #the coefficient matrix has to be square: m must be equal to n+1; note that the input of this function is the augmented matrix [That is a requirement np.lin_alg also poses.]\n",
    "    if m+1 != n:\n",
    "        raise Exception(\"Format of matrix is wrong - it must be square.\")\n",
    "    #there is no proper echelon form form if the matrix given as an input is either a row or a column vector\n",
    "    if m<2 or n<2:\n",
    "        raise Exception(\"Matrix that was given as input is too small - both dimesions must be greater than 1.\")\n",
    "    i = 0\n",
    "    while i < m-1 and i < n:\n",
    "        matrix = swap(matrix, i)\n",
    "        #because swap was called before: if ???\"anchor\"/pivot??? value is zero, echelon is done for that column\n",
    "        if matrix[i][i] != 0:\n",
    "            #for \"anchor\" value, all values below must be set to zero to create the echelon form\n",
    "            for iter_n in range(i, m-1):\n",
    "                #if any value under the anchor value is zero, the ones below are as well because swap was called before - next anchor/row can be tackled\n",
    "                if matrix[iter_n+1][i] == 0:\n",
    "                    break\n",
    "                #row operation: row_x = row_x - ( factor * row_(x-1) )\n",
    "                factor = matrix[iter_n+1][i] / matrix[i][i]\n",
    "                matrix[iter_n+1] = [a - (factor * b) for a,b in zip(matrix[iter_n+1], matrix[i])]\n",
    "        i = i + 1\n",
    "    #to cope with rounding errors that result from float operations, values are rounded to 10 decimal places\n",
    "    for row in range(m):\n",
    "        new_row_pre = matrix[row]\n",
    "        matrix[row] = [round(v, 10) for v in new_row_pre]\n",
    "    return matrix\n",
    "\n",
    "def reduced_echelon(matrix):\n",
    "    \"\"\"\n",
    "    After the echelon form of the matrix is calculted, this function calculates the reduced echelon form.\n",
    "    \"\"\"\n",
    "    #first, matrix is transformed into the echelon form, which is the foundation for the transformation into rref\n",
    "    matrix = echelon(matrix)\n",
    "    m, n = snp.shape(matrix)\n",
    "    #iterating from the lower right to the upper left corner\n",
    "    i = m - 1\n",
    "    while i >= 0:\n",
    "        #if that value is 0, there cannot be a reduction in that column for the rows above based on it.\n",
    "        if matrix[i][i] != 0:\n",
    "            for iter_n in range(i, 0, -1):\n",
    "                if matrix[i][i] == 0:\n",
    "                    break\n",
    "                factor = matrix[iter_n-1][i] / matrix[i][i]\n",
    "                matrix[iter_n - 1] = [a - (factor * b) for a, b in zip(matrix[iter_n - 1], matrix[i])]\n",
    "        i = i - 1\n",
    "\n",
    "    #finalizing to rref by deviding row values so that coefficients matrix is diagonal with ones\n",
    "    for n in range(m):\n",
    "        if matrix[n][n] != 0:\n",
    "            value = 1 / ( matrix[n][n] )\n",
    "            matrix[n] = [value * a for a in matrix[n]]\n",
    "\n",
    "    #Rounding to cope with floating-point precision errors\n",
    "    for row in range(m):\n",
    "        new_row_pre = matrix[row]\n",
    "        matrix[row] = [round(v, 5) for v in new_row_pre]\n",
    "    return matrix\n",
    "\n",
    "def rref_check(matrix):\n",
    "    condition = 1\n",
    "    m,n = snp.shape(matrix)\n",
    "    for r in range(m):\n",
    "        for i in range(m):\n",
    "            if (r != i and matrix[r][i] != 0):\n",
    "                condition = 0\n",
    "    if condition == 0:\n",
    "        return False\n",
    "    return True\n",
    "\n",
    "def solution_case(matrix):\n",
    "    \"\"\"\n",
    "    This function determines based on the input - the matrix in rref - how many solutions exist.\n",
    "    Output is the number of the case which is then further processed in the\n",
    "    \"\"\"\n",
    "    \n",
    "    #@nick, here we also need to adjust the case in which the matrix returned by the reduced_echlon has infinitely many solutions\n",
    "    \n",
    "    m, n = snp.shape(matrix)\n",
    "    #tbd: is in rref?\n",
    "    solution_case = 0 #1: no solution; 2:infinite number of solution, 3: one solution;\n",
    "\n",
    "    #no solution, case 1 - occurs when coefficient matrix has zero row but corresponding ??equation value?? is non zero\n",
    "    for row in matrix:\n",
    "        for i in range(n-1):\n",
    "            if (all(value == 0 for value in row[:(n-1)]) and (row[n-1] != 0)):\n",
    "                solution_case = 1\n",
    "    #one solution, case 3 - occurs, when matrix in rref and no free variables\n",
    "    #for efficiency reasons, here, it is only checked, if matrix in rref, case 3, in that case, is only overturned, if there are free variables\n",
    "    if rref_check(matrix):\n",
    "        solution_case = 3\n",
    "    #infinite number of solutions, case 2 - matrix in rref but it has one or more free variables\n",
    "    for i in range(m):\n",
    "        if matrix[i][i] == 0:\n",
    "            solution_case = 2\n",
    "            break\n",
    "    if solution_case == 0:\n",
    "        raise Exception(\"Reduced echelon form was not possible to be calculated - linear eqaution system is inconsistent\")\n",
    "    return solution_case\n",
    "\n",
    "def one_solution_solver(matrix):\n",
    "    \"\"\"\n",
    "    This function gets a matrix in rref, for which there is only one solution, as input.\n",
    "    It gives back the corresponding solution.\n",
    "    \"\"\"\n",
    "    m, n = snp.shape(matrix)\n",
    "    solution = []\n",
    "    for i in range(m):\n",
    "        res = matrix[i][n-1] / matrix[i][i]\n",
    "        print(res)\n",
    "        solution.append(res)\n",
    "    return solution\n",
    "\n",
    "def infinite_solution_finder(matrix):\n",
    "    \"\"\"\n",
    "    This function gets a matrix in rref with at least one free variable. It than returns one of the possible solutions.\n",
    "    \"\"\"\n",
    "    pass\n",
    "    #@nick, this is mainly what you need to implement\n",
    "\n",
    "\n"
   ]
  },
  {
   "cell_type": "code",
   "execution_count": null,
   "metadata": {},
   "outputs": [],
   "source": []
  },
  {
   "cell_type": "code",
   "execution_count": 100,
   "metadata": {
    "id": "gTGORUowAHJZ"
   },
   "outputs": [],
   "source": [
    "class Subnumpy(object):\n",
    "\n",
    "    #The follwing function is\n",
    "    def ones(self, x):\n",
    "        \"\"\"\n",
    "        This function creates an array of length x containing only ones.\n",
    "        Input: x, a positive integer\n",
    "        Output: array of length x containing only ones\n",
    "        \"\"\"\n",
    "        check_pos_int(x, 1)\n",
    "        out = []\n",
    "        out = [1 for i in range(x)]\n",
    "        return out\n",
    "\n",
    "    def zeros(self, x):\n",
    "        \"\"\"\n",
    "        This function creates an array of length x containing only zeros.\n",
    "        Input: x, a positive integer\n",
    "        Output: array of length x containing only zeros\n",
    "        \"\"\"\n",
    "        check_pos_int(x, 1)\n",
    "        out = []\n",
    "        out = [0 for i in range(x)]\n",
    "        return out\n",
    "\n",
    "    def reshape(self, arr, t):\n",
    "        \"\"\"\n",
    "        #TBD\n",
    "        \"\"\"\n",
    "        check_arr(arr)\n",
    "        check_tuple(t)\n",
    "        m = t[0]\n",
    "        n = t[1]\n",
    "        matrix = []\n",
    "        if m*n != len(arr):\n",
    "            raise Exception(\"Length of vector and matrix dimension do not match.\")\n",
    "        else:\n",
    "            for m_rows in range(m):\n",
    "                x1 = m_rows * n\n",
    "                x2 = (m_rows + 1) * n\n",
    "                matrix.append(arr[x1:x2])\n",
    "            return matrix\n",
    "\n",
    "    def shape(self, matrix):\n",
    "        \"\"\"\n",
    "        This function returns the dimensions m and n of a mxn matrix.\n",
    "        Before calculating, it has to be checked if the matrix-requirements for the input sre fulfilled.\n",
    "        Input: Valid matrix.\n",
    "        Output: Dimensions m and n of mxn matrix\n",
    "        \"\"\"\n",
    "        check_matrix_vector(matrix)\n",
    "        m = len(matrix)\n",
    "        n = len(matrix[0])\n",
    "        return (m, n)\n",
    "\n",
    "    def append(self, matrix1, matrix2):\n",
    "        pass\n",
    "\n",
    "    def get(self, v_m, dim):\n",
    "        \"\"\"\n",
    "        This function returns the values pecified by the coordinate point (row,column) of the array provided\n",
    "        (can be vector or matrix).\n",
    "        Input: Valid Vector or Matrix and a valid tuple specifiying the coordinate of the value of interest.\n",
    "        Note that the input must be given in natural numbers starting with (1, 1) for the top left entry.\n",
    "        Output: Numeric value\n",
    "        \"\"\"\n",
    "        check_matrix_vector(v_m)\n",
    "        m, n = snp.shape(v_m)\n",
    "        check_tuple(dim)\n",
    "        if (dim[0]) > m or (dim[1]) > n:\n",
    "            raise Exception(\"Dimension input does not exists for the given matrix/vector.\")\n",
    "        else:\n",
    "            dim1_pre, dim2_pre = dim\n",
    "            dim1 = dim1_pre - 1\n",
    "            dim2 = dim2_pre - 1\n",
    "            value = v_m[dim1][dim2]\n",
    "        return value\n",
    "\n",
    "    def add(self, v_m1, v_m2):\n",
    "        check_matrix_vector(v_m1)\n",
    "        check_matrix_vector(v_m2)\n",
    "        m1, n1 = snp.shape(v_m1)\n",
    "        m2, n2 = snp.shape(v_m2)\n",
    "        if m1 != m2 and n1 != n2:\n",
    "            raise Exception(\"Operation not possible - both matrices/vectors given do not have the same dimesnsions.\")\n",
    "        result = []\n",
    "        for i in range(0,m1):\n",
    "            result.append([a + b for a, b in zip(v_m1[i], v_m2[i])])\n",
    "        return result\n",
    "\n",
    "    def subtract(self, v_m1, v_m2):\n",
    "        check_matrix_vector(v_m1)\n",
    "        check_matrix_vector(v_m2)\n",
    "        m1, n1 = snp.shape(v_m1)\n",
    "        m2, n2 = snp.shape(v_m2)\n",
    "        if m1 != m2 and n1 != n2:\n",
    "            raise Exception(\"Operation not possible - both matrices/vectors given do not have the same dimesnsions.\")\n",
    "        result = []\n",
    "        for i in range(0,m1):\n",
    "            result.append([a - b for a, b in zip(v_m1[i], v_m2[i])])\n",
    "        return result\n",
    "\n",
    "    def dotproduct(self, v_m1, v_m2):\n",
    "        check_matrix_vector(v_m1)\n",
    "        check_matrix_vector(v_m2)\n",
    "        m1, n1 = snp.shape(v_m1)\n",
    "        m2, n2 = snp.shape(v_m2)\n",
    "        if n1 != m2:\n",
    "            raise Exception(\"The combination of the input vectors/matrices do not fulfill the requirements for the dotprouct.\\n The bumber of rows in the first input must be equal to the number of columns of the second input.\")\n",
    "        #initialize resulting matrix/vector\n",
    "        res_dim = m1, n2\n",
    "        res = []\n",
    "        zero_row = snp.zeros(n2)\n",
    "        for i in range(m1):\n",
    "            res.append(zero_row)\n",
    "        for m in range(m1):\n",
    "            for n in range(n2):\n",
    "                sum = 0\n",
    "                for iterate in range(n1):\n",
    "                    sum = sum + ( v_m1[m][iterate] * v_m2[iterate][n] )\n",
    "                res[m][n] = sum\n",
    "        return res\n",
    "\n",
    "    def linalg_solver(self, matrix, vector):\n",
    "        #check_matrix_vector(matrix)\n",
    "        #check_matrix_vector(vector)\n",
    "        if len(matrix) != len(vector):\n",
    "            raise Exception(\"The dimension of the input - matrix & vector - do not fit.\")\n",
    "        aug_matrix = augmented(matrix, vector)\n",
    "        rref = reduced_echelon(aug_matrix)\n",
    "        print(rref)\n",
    "        res_case = solution_case(rref)\n",
    "        if res_case == 1:\n",
    "            print(\"There is no solution to the linear equation system.\")\n",
    "            return\n",
    "        if res_case == 2:\n",
    "            pass\n",
    "        if res_case == 3:\n",
    "            return one_solution_solver(matrix)\n",
    "        #tbd: solution finder\n",
    "\n",
    "\n",
    "    def show_matrix(v_m):\n",
    "        \"\"\"\n",
    "        This function is an addition to the tasks given on the assignment sheet. It can be used to display matrices or vectors in a more comprehensive and illustrated way.\n",
    "        \"\"\"\n",
    "        check_matrix_vector(v_m)\n",
    "        #error handling\n",
    "        print(v_m)\n"
   ]
  },
  {
   "cell_type": "code",
   "execution_count": 101,
   "metadata": {
    "id": "zwAY43Y3AHJa"
   },
   "outputs": [],
   "source": [
    "snp = Subnumpy()\n",
    "x = snp.zeros(10)"
   ]
  },
  {
   "cell_type": "code",
   "execution_count": 102,
   "metadata": {
    "colab": {
     "base_uri": "https://localhost:8080/",
     "height": 1000
    },
    "id": "FV0Py4QQFHqT",
    "outputId": "5d9ac705-3050-49c6-b626-2600357692c2"
   },
   "outputs": [
    {
     "name": "stdout",
     "output_type": "stream",
     "text": [
      "[[1.0, 0.0, 1.0, 2.6], [0.0, 1.0, -1.0, 1.2], [0.0, 0.0, 0.0, -2.0]]\n",
      "[[1.0, 2.0, 3.0, 4.0], [0.0, 0.0, 0.0, 0.0], [0.0, 0.0, 0.0, 0.0]]\n",
      "[[1.0, 2.0, 3.0, 4.0], [0.0, 0.0, 0.0, 1.0], [0.0, 0.0, 0.0, 0.0]]\n",
      "[[1.0, 0.0, -1.0, -2.0], [-0.0, 1.0, 2.0, 3.0], [0.0, 0.0, 0.0, 0.0]]\n"
     ]
    }
   ],
   "source": [
    "\n",
    "# Consistent System with Unique Solution\n",
    "matrix_unique_solution = [[2, -1, 3, 4],\n",
    "                            [1, 2, -1, 5],\n",
    "                           [3, 1, 2, 7]]\n",
    "rref_unique_solution = [[1, 0, 0, 1],\n",
    "                        [0, 1, 0, 2],\n",
    "                        [0, 0, 1, 3]]\n",
    "\n",
    "# Consistent System with Infinite Solutions\n",
    "matrix_infinite_solutions = [\n",
    "                            [1, 2, 3, 4],\n",
    "                            [2, 4, 6, 8],\n",
    "                            [3, 6, 9, 12]]\n",
    "rref_infinite_solutions = [[1, 2, 3, 4],\n",
    "                           [0, 0, 0, 0],\n",
    "                           [0, 0, 0, 0]]\n",
    "\n",
    "# Inconsistent System\n",
    "matrix_inconsistent = [[1, 2, 3, 4],\n",
    "                       [2, 4, 6, 9],\n",
    "                       [3, 6, 9, 12]]\n",
    "rref_inconsistent = [[1, 2, 3, 4],\n",
    "                     [0, 0, 0, 1],\n",
    "                     [0, 0, 0, 0]]\n",
    "\n",
    "# Overdetermined System\n",
    "matrix_overdetermined = [[1, 2, 3, 4],\n",
    "                         [2, 3, 4, 5],\n",
    "                         [3, 4, 5, 6]]\n",
    "rref_overdetermined = [[1, 0, -1, 2],\n",
    "                       [0, 1, 2, -1],\n",
    "                       [0, 0, 0, 0]]\n",
    "\n",
    "# Test your reduced_echelon function\n",
    "#ALL OF THE FOLLOWING CHECKED WITH REAL RESULTS -> IS RIGHT\n",
    "result_unique_solution = reduced_echelon(matrix_unique_solution)\n",
    "print(result_unique_solution)\n",
    "\n",
    "\n",
    "result_infinite_solutions = reduced_echelon(matrix_infinite_solutions)\n",
    "print(result_infinite_solutions)\n",
    "\n",
    "result_inconsistent = reduced_echelon(matrix_inconsistent)\n",
    "print(result_inconsistent)\n",
    "\n",
    "result_overdetermined = reduced_echelon(matrix_overdetermined)\n",
    "print(result_overdetermined)\n",
    "\n",
    "# Check if the results match the expected RREFs\n",
    "#assert result_unique_solution == rref_unique_solution\n",
    "#assert result_infinite_solutions == rref_infinite_solutions\n",
    "#assert result_inconsistent == rref_inconsistent\n",
    "#assert result_overdetermined == rref_overdetermined\n",
    "\n",
    "#print(\"All tests passed!\")\n"
   ]
  },
  {
   "cell_type": "code",
   "execution_count": 132,
   "metadata": {
    "colab": {
     "base_uri": "https://localhost:8080/",
     "height": 368
    },
    "id": "5ZX9fZ65wMfG",
    "outputId": "42f44d43-2648-4e0e-f6db-d9e44313f754"
   },
   "outputs": [
    {
     "ename": "LinAlgError",
     "evalue": "Singular matrix",
     "output_type": "error",
     "traceback": [
      "\u001b[0;31m---------------------------------------------------------------------------\u001b[0m",
      "\u001b[0;31mLinAlgError\u001b[0m                               Traceback (most recent call last)",
      "\u001b[0;32m/var/folders/yn/2tfz0n9x7m3dkwb69m05y8lw0000gn/T/ipykernel_81706/715892383.py\u001b[0m in \u001b[0;36m<module>\u001b[0;34m\u001b[0m\n\u001b[1;32m      5\u001b[0m \u001b[0mb\u001b[0m \u001b[0;34m=\u001b[0m \u001b[0;34m[\u001b[0m\u001b[0;36m9\u001b[0m\u001b[0;34m,\u001b[0m\u001b[0;36m0\u001b[0m\u001b[0;34m,\u001b[0m\u001b[0;36m34\u001b[0m\u001b[0;34m]\u001b[0m\u001b[0;34m\u001b[0m\u001b[0;34m\u001b[0m\u001b[0m\n\u001b[1;32m      6\u001b[0m \u001b[0;34m\u001b[0m\u001b[0m\n\u001b[0;32m----> 7\u001b[0;31m \u001b[0mnnp_solution\u001b[0m \u001b[0;34m=\u001b[0m \u001b[0mnp\u001b[0m\u001b[0;34m.\u001b[0m\u001b[0mlinalg\u001b[0m\u001b[0;34m.\u001b[0m\u001b[0msolve\u001b[0m\u001b[0;34m(\u001b[0m\u001b[0mnp\u001b[0m\u001b[0;34m.\u001b[0m\u001b[0marray\u001b[0m\u001b[0;34m(\u001b[0m\u001b[0ma\u001b[0m\u001b[0;34m)\u001b[0m\u001b[0;34m,\u001b[0m \u001b[0mnp\u001b[0m\u001b[0;34m.\u001b[0m\u001b[0marray\u001b[0m\u001b[0;34m(\u001b[0m\u001b[0mb\u001b[0m\u001b[0;34m)\u001b[0m\u001b[0;34m)\u001b[0m\u001b[0;34m\u001b[0m\u001b[0;34m\u001b[0m\u001b[0m\n\u001b[0m\u001b[1;32m      8\u001b[0m \u001b[0msnp_solution\u001b[0m \u001b[0;34m=\u001b[0m \u001b[0msnp\u001b[0m\u001b[0;34m.\u001b[0m\u001b[0mlinalg_solver\u001b[0m\u001b[0;34m(\u001b[0m\u001b[0ma\u001b[0m\u001b[0;34m,\u001b[0m \u001b[0mb\u001b[0m\u001b[0;34m)\u001b[0m\u001b[0;34m\u001b[0m\u001b[0;34m\u001b[0m\u001b[0m\n\u001b[1;32m      9\u001b[0m \u001b[0;34m\u001b[0m\u001b[0m\n",
      "\u001b[0;32m<__array_function__ internals>\u001b[0m in \u001b[0;36msolve\u001b[0;34m(*args, **kwargs)\u001b[0m\n",
      "\u001b[0;32m~/opt/anaconda3/lib/python3.9/site-packages/numpy/linalg/linalg.py\u001b[0m in \u001b[0;36msolve\u001b[0;34m(a, b)\u001b[0m\n\u001b[1;32m    391\u001b[0m     \u001b[0msignature\u001b[0m \u001b[0;34m=\u001b[0m \u001b[0;34m'DD->D'\u001b[0m \u001b[0;32mif\u001b[0m \u001b[0misComplexType\u001b[0m\u001b[0;34m(\u001b[0m\u001b[0mt\u001b[0m\u001b[0;34m)\u001b[0m \u001b[0;32melse\u001b[0m \u001b[0;34m'dd->d'\u001b[0m\u001b[0;34m\u001b[0m\u001b[0;34m\u001b[0m\u001b[0m\n\u001b[1;32m    392\u001b[0m     \u001b[0mextobj\u001b[0m \u001b[0;34m=\u001b[0m \u001b[0mget_linalg_error_extobj\u001b[0m\u001b[0;34m(\u001b[0m\u001b[0m_raise_linalgerror_singular\u001b[0m\u001b[0;34m)\u001b[0m\u001b[0;34m\u001b[0m\u001b[0;34m\u001b[0m\u001b[0m\n\u001b[0;32m--> 393\u001b[0;31m     \u001b[0mr\u001b[0m \u001b[0;34m=\u001b[0m \u001b[0mgufunc\u001b[0m\u001b[0;34m(\u001b[0m\u001b[0ma\u001b[0m\u001b[0;34m,\u001b[0m \u001b[0mb\u001b[0m\u001b[0;34m,\u001b[0m \u001b[0msignature\u001b[0m\u001b[0;34m=\u001b[0m\u001b[0msignature\u001b[0m\u001b[0;34m,\u001b[0m \u001b[0mextobj\u001b[0m\u001b[0;34m=\u001b[0m\u001b[0mextobj\u001b[0m\u001b[0;34m)\u001b[0m\u001b[0;34m\u001b[0m\u001b[0;34m\u001b[0m\u001b[0m\n\u001b[0m\u001b[1;32m    394\u001b[0m \u001b[0;34m\u001b[0m\u001b[0m\n\u001b[1;32m    395\u001b[0m     \u001b[0;32mreturn\u001b[0m \u001b[0mwrap\u001b[0m\u001b[0;34m(\u001b[0m\u001b[0mr\u001b[0m\u001b[0;34m.\u001b[0m\u001b[0mastype\u001b[0m\u001b[0;34m(\u001b[0m\u001b[0mresult_t\u001b[0m\u001b[0;34m,\u001b[0m \u001b[0mcopy\u001b[0m\u001b[0;34m=\u001b[0m\u001b[0;32mFalse\u001b[0m\u001b[0;34m)\u001b[0m\u001b[0;34m)\u001b[0m\u001b[0;34m\u001b[0m\u001b[0;34m\u001b[0m\u001b[0m\n",
      "\u001b[0;32m~/opt/anaconda3/lib/python3.9/site-packages/numpy/linalg/linalg.py\u001b[0m in \u001b[0;36m_raise_linalgerror_singular\u001b[0;34m(err, flag)\u001b[0m\n\u001b[1;32m     86\u001b[0m \u001b[0;34m\u001b[0m\u001b[0m\n\u001b[1;32m     87\u001b[0m \u001b[0;32mdef\u001b[0m \u001b[0m_raise_linalgerror_singular\u001b[0m\u001b[0;34m(\u001b[0m\u001b[0merr\u001b[0m\u001b[0;34m,\u001b[0m \u001b[0mflag\u001b[0m\u001b[0;34m)\u001b[0m\u001b[0;34m:\u001b[0m\u001b[0;34m\u001b[0m\u001b[0;34m\u001b[0m\u001b[0m\n\u001b[0;32m---> 88\u001b[0;31m     \u001b[0;32mraise\u001b[0m \u001b[0mLinAlgError\u001b[0m\u001b[0;34m(\u001b[0m\u001b[0;34m\"Singular matrix\"\u001b[0m\u001b[0;34m)\u001b[0m\u001b[0;34m\u001b[0m\u001b[0;34m\u001b[0m\u001b[0m\n\u001b[0m\u001b[1;32m     89\u001b[0m \u001b[0;34m\u001b[0m\u001b[0m\n\u001b[1;32m     90\u001b[0m \u001b[0;32mdef\u001b[0m \u001b[0m_raise_linalgerror_nonposdef\u001b[0m\u001b[0;34m(\u001b[0m\u001b[0merr\u001b[0m\u001b[0;34m,\u001b[0m \u001b[0mflag\u001b[0m\u001b[0;34m)\u001b[0m\u001b[0;34m:\u001b[0m\u001b[0;34m\u001b[0m\u001b[0;34m\u001b[0m\u001b[0m\n",
      "\u001b[0;31mLinAlgError\u001b[0m: Singular matrix"
     ]
    }
   ],
   "source": [
    "import numpy as np\n",
    "\n",
    "\n",
    "a = [[1, 0, 0], [0, 0, 0], [0, 0, 8]]\n",
    "b = [9,0,34]\n",
    "\n",
    "nnp_solution = np.linalg.solve(np.array(a), np.array(b))\n",
    "snp_solution = snp.linalg_solver(a, b)\n",
    "\n",
    "print(nnp_solution)\n",
    "print((snp_solution))\n",
    "\n"
   ]
  },
  {
   "cell_type": "markdown",
   "metadata": {
    "id": "Zbyi2A00MVhK"
   },
   "source": [
    "# New Section"
   ]
  },
  {
   "cell_type": "markdown",
   "metadata": {
    "id": "3CgbQUbiMWAW"
   },
   "source": [
    "# New Section"
   ]
  },
  {
   "cell_type": "code",
   "execution_count": 36,
   "metadata": {
    "colab": {
     "base_uri": "https://localhost:8080/"
    },
    "id": "cHm8NtMRAHJd",
    "outputId": "c9aa33b9-7da7-4590-e8fc-6a3342e6e9ec"
   },
   "outputs": [
    {
     "name": "stdout",
     "output_type": "stream",
     "text": [
      "[[1.0, 0.0, 0.0, 0.0, 11.1052631579], [0.0, 1.0, 0.0, 0.0, -3.5789473684], [0.0, 0.0, 1.0, 0.0, 2.6315789474], [-0.0, -0.0, -0.0, 1.0, -3.8421052632]]\n",
      "[[1.0, 0.0, 0.0, 1.0], [0.0, 1.0, 0.0, -1.0], [0.0, 0.0, 1.0, 2.0]]\n",
      "[[1.0, 0.0, 4.0, -2.0], [-0.0, 1.0, -3.0, 4.0], [0.0, 0.0, 0.0, -3.0]]\n",
      "[[1.0, 0.0, 4.0, 1.0], [0.0, 1.0, -3.0, 1.0], [0, 0, 0, 0]]\n"
     ]
    }
   ],
   "source": [
    "snp = Subnumpy()\n",
    "mrtx = [[0,1,7,1,11],[2,2,1,2,10], [3,4,0,0,19], [1,2,3,1,8]]\n",
    "mrtx = reduced_echelon(mrtx)\n",
    "print(mrtx)\n",
    "\n",
    "mrtx_2 = [[1,-2,3,9],[-1,3,0,-4],[2,-5,5,17]]\n",
    "mrtx_2 = reduced_echelon(mrtx_2)\n",
    "print(mrtx_2)\n",
    "\n",
    "mrtx_3 = [[1,1,1,2],[0,1,-3,1],[2,1,5,0]]\n",
    "mrtx_3 = reduced_echelon(mrtx_3)\n",
    "print(mrtx_3)\n",
    "\n",
    "mrtx_4 = [[1,1,1,2],[0,1,-3,1],[0,0,0,0]]\n",
    "mrtx_4 = reduced_echelon(mrtx_4)\n",
    "print(mrtx_4)\n",
    "\n",
    "\n",
    "\n",
    "#ech = echelon(mrtx)\n",
    "#mrtx = swap(mrtx, 0)\n",
    "#mrtx\n",
    "\n",
    "#snp.show_matrix(mrtx) "
   ]
  },
  {
   "cell_type": "code",
   "execution_count": null,
   "metadata": {
    "colab": {
     "base_uri": "https://localhost:8080/"
    },
    "id": "JXqdu84Wh_AI",
    "outputId": "699831c0-83a2-4a0a-9b05-13325445f7fe"
   },
   "outputs": [],
   "source": [
    "\n",
    "# Example usage:\n",
    "echelon_matrix_no_solution = [\n",
    "    [2, 3, 5, 8],\n",
    "    [0, 1, 2, 3],\n",
    "    [0, 0, 0, 7]  # No solution\n",
    "]\n",
    "\n",
    "echelon_matrix_one_solution = [\n",
    "    [2, 3, 5, 8],\n",
    "    [0, 1, 2, 3],\n",
    "    [0, 0, 3, 4]\n",
    "]\n",
    "\n",
    "echelon_matrix_infinite_solutions = [\n",
    "    [2, 3, 5, 8],\n",
    "    [0, 1, 2, 3],\n",
    "    [0, 0, 0, 0]  # Infinite solutions\n",
    "]\n",
    "\n",
    "result_no_solution = back_substitution(echelon_matrix_no_solution)\n",
    "result_one_solution = back_substitution(echelon_matrix_one_solution)\n",
    "result_infinite_solutions = back_substitution(echelon_matrix_infinite_solutions)\n",
    "\n",
    "print(\"Result (No solution):\", result_no_solution)\n",
    "print(\"Result (One solution):\", result_one_solution)\n",
    "print(\"Result (Infinite solutions):\", result_infinite_solutions)"
   ]
  },
  {
   "cell_type": "code",
   "execution_count": null,
   "metadata": {
    "colab": {
     "base_uri": "https://localhost:8080/",
     "height": 225
    },
    "id": "l3bkhCByAHJb",
    "outputId": "fc498011-68a3-4485-c718-1e65b90059fc"
   },
   "outputs": [],
   "source": [
    "x = [1,2,3,4,5,6,7,8,9]\n",
    "matrix = snp.reshape(x, (3,3))\n",
    "res = snp.echelon(matrix)\n",
    "print(res)"
   ]
  },
  {
   "cell_type": "code",
   "execution_count": null,
   "metadata": {
    "colab": {
     "base_uri": "https://localhost:8080/",
     "height": 225
    },
    "id": "zyfm6T_VAHJb",
    "outputId": "76ef806f-4e31-4912-9a8e-ce370a55f0f5"
   },
   "outputs": [],
   "source": [
    "x = [1,0,1,0,1,0,0,0,0]\n",
    "matrix = snp.reshape(x, (3,3))\n",
    "res = snp.echelon(matrix)\n",
    "print(res)"
   ]
  },
  {
   "cell_type": "code",
   "execution_count": null,
   "metadata": {
    "colab": {
     "base_uri": "https://localhost:8080/",
     "height": 385
    },
    "id": "Wr8PtcBIAHJc",
    "outputId": "c4e0c435-f97b-4a1f-8c73-4f18aaffc70c"
   },
   "outputs": [],
   "source": [
    "# Coefficient matrix\n",
    "a = [[0,4,9,1],[7,1,3,1],[1,5,8,1]]\n",
    "\n",
    "ech = snp.echelon(a)\n",
    "\n",
    "# Right-hand side vector\n",
    "b = np.array([1,2,3])\n",
    "\n",
    "# Solve the system of linear equations\n",
    "#x = np.linalg.solve(a, b)\n",
    "\n",
    "print(x)\n",
    "ech"
   ]
  },
  {
   "cell_type": "code",
   "execution_count": null,
   "metadata": {
    "colab": {
     "base_uri": "https://localhost:8080/"
    },
    "id": "ZwV8YCVyXgGP",
    "outputId": "64cec0b3-10f3-4917-e9ba-71575600cf44"
   },
   "outputs": [],
   "source": [
    "matrix = [[1,2,3], [1,2,3],[1,2,3]]\n",
    "vect = [4,4,4]\n",
    "augment = augmented(matrix, vect)\n",
    "augment"
   ]
  },
  {
   "cell_type": "code",
   "execution_count": null,
   "metadata": {
    "id": "jKSJ53cUAHJc"
   },
   "outputs": [],
   "source": [
    "from sympy import symbols, Eq, solve\n",
    "\n",
    "# Define the variables\n",
    "b, c = symbols('b c')\n",
    "\n",
    "# Define the equation\n",
    "equation = Eq((-3) * b + (-6) * c, 1)\n",
    "\n",
    "# Solve the equation\n",
    "solutions = solve(equation, (b, c))\n",
    "\n",
    "# Print the solutions\n",
    "print(\"Solutions:\", solutions)"
   ]
  },
  {
   "cell_type": "code",
   "execution_count": null,
   "metadata": {
    "colab": {
     "base_uri": "https://localhost:8080/"
    },
    "id": "bQDvLGx2Cj-a",
    "outputId": "f22c6683-fad5-4ca4-f31f-c2977a800fb0"
   },
   "outputs": [],
   "source": [
    "for i in range(1,10):\n",
    "    print(i)"
   ]
  },
  {
   "cell_type": "code",
   "execution_count": null,
   "metadata": {
    "colab": {
     "base_uri": "https://localhost:8080/"
    },
    "id": "ru58N0QCZRPF",
    "outputId": "579816a1-d681-4439-9229-20c8914ebf1e"
   },
   "outputs": [],
   "source": [
    "x = [0,1,2,3,4]\n",
    "print(x[:4])"
   ]
  },
  {
   "cell_type": "code",
   "execution_count": null,
   "metadata": {
    "colab": {
     "base_uri": "https://localhost:8080/"
    },
    "id": "AN_5odN-AHJc",
    "outputId": "29fb85ed-0d65-4519-f4fb-742dd6e4a1c0"
   },
   "outputs": [],
   "source": [
    "import numpy as np\n",
    "\n",
    "# Coefficient matrix\n",
    "a = np.array([[1,2,3],[1,2,6],[7,8,9]])\n",
    "\n",
    "# Right-hand side vector\n",
    "b = np.array([1,1,0])\n",
    "\n",
    "# Solve the system of linear equations\n",
    "x = np.linalg.solve(a, b)\n",
    "\n",
    "print(x)"
   ]
  },
  {
   "cell_type": "code",
   "execution_count": null,
   "metadata": {
    "colab": {
     "base_uri": "https://localhost:8080/"
    },
    "id": "4bSn55F7v6sc",
    "outputId": "53b88a76-6c6c-4413-88c1-7ad10c398e12"
   },
   "outputs": [],
   "source": [
    "matrix = [[1,2,3,1],[1,2,3,4],[1,2,1,2]]\n",
    "n = len(matrix[0])\n",
    "print((matrix[0][:(n-1)]))\n",
    "print((matrix[0][n-1]))"
   ]
  },
  {
   "cell_type": "code",
   "execution_count": null,
   "metadata": {
    "colab": {
     "base_uri": "https://localhost:8080/"
    },
    "id": "7e2emG9hx0Hc",
    "outputId": "3a9d41fb-cc74-4543-9678-44b28eb18379"
   },
   "outputs": [],
   "source": [
    "matrix = [[2, -1, 3, 4], [0, 2.5, -2.5, 3], [0, 0, 0, -2]]\n",
    "i = 2\n",
    "while i >= 0:\n",
    "      #if that value is 0, there cannot be a reduction in that column for the rows above based on it.\n",
    "      if matrix[i][i] != 0:\n",
    "          for iter_n in range(i, 0, -1):\n",
    "              if matrix[i][i] == 0:\n",
    "                  break\n",
    "              factor = matrix[iter_n-1][i] / matrix[i][i]\n",
    "              matrix[iter_n - 1] = [a - (factor * b) for a, b in zip(matrix[iter_n - 1], matrix[i])]\n",
    "      i = i - 1\n",
    "\n",
    "matrix"
   ]
  },
  {
   "cell_type": "code",
   "execution_count": 21,
   "metadata": {
    "id": "i6kIYsubSd2L"
   },
   "outputs": [
    {
     "name": "stdout",
     "output_type": "stream",
     "text": [
      "[]\n",
      "[1]\n",
      "[1, 2]\n",
      "[]\n",
      "[1]\n",
      "[1, 2]\n",
      "[]\n",
      "[1]\n",
      "[1, 2]\n"
     ]
    }
   ],
   "source": [
    "matrix = [[1,2,7],[1,2,6],[1,2,4]]\n",
    "for row in matrix:\n",
    "    for i in range(3):\n",
    "        print(row[:i])"
   ]
  },
  {
   "cell_type": "code",
   "execution_count": null,
   "metadata": {},
   "outputs": [],
   "source": []
  }
 ],
 "metadata": {
  "colab": {
   "provenance": []
  },
  "kernelspec": {
   "display_name": "Python 3 (ipykernel)",
   "language": "python",
   "name": "python3"
  },
  "language_info": {
   "codemirror_mode": {
    "name": "ipython",
    "version": 3
   },
   "file_extension": ".py",
   "mimetype": "text/x-python",
   "name": "python",
   "nbconvert_exporter": "python",
   "pygments_lexer": "ipython3",
   "version": "3.9.7"
  },
  "varInspector": {
   "cols": {
    "lenName": 16,
    "lenType": 16,
    "lenVar": 40
   },
   "kernels_config": {
    "python": {
     "delete_cmd_postfix": "",
     "delete_cmd_prefix": "del ",
     "library": "var_list.py",
     "varRefreshCmd": "print(var_dic_list())"
    },
    "r": {
     "delete_cmd_postfix": ") ",
     "delete_cmd_prefix": "rm(",
     "library": "var_list.r",
     "varRefreshCmd": "cat(var_dic_list()) "
    }
   },
   "types_to_exclude": [
    "module",
    "function",
    "builtin_function_or_method",
    "instance",
    "_Feature"
   ],
   "window_display": false
  }
 },
 "nbformat": 4,
 "nbformat_minor": 1
}

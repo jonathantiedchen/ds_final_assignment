{
 "cells": [
  {
   "cell_type": "markdown",
   "metadata": {},
   "source": [
    "# Final Project - Foundations of Data Science: Programming and Linear Algebra (CDSCO1001U)"
   ]
  },
  {
   "cell_type": "markdown",
   "metadata": {},
   "source": [
    "## Question 2: Hammins's Code"
   ]
  },
  {
   "cell_type": "code",
   "execution_count": 1,
   "metadata": {},
   "outputs": [],
   "source": [
    "import numpy as np"
   ]
  },
  {
   "cell_type": "markdown",
   "metadata": {},
   "source": [
    "### Define relevant matrices"
   ]
  },
  {
   "cell_type": "code",
   "execution_count": 2,
   "metadata": {},
   "outputs": [],
   "source": [
    "# Define Generator Matrix G\n",
    "Matrix_G = np.array([[1,1,0,1], \n",
    "                    [1,0,1,1], \n",
    "                    [1,0,0,0], \n",
    "                    [0,1,1,1], \n",
    "                    [0,1,0,0], \n",
    "                    [0,0,1,0], \n",
    "                    [0,0,0,1]])\n",
    "\n",
    "# Define Parity-Check Matrix H\n",
    "Matrix_H = np.array([[1,0,1,0,1,0,1],\n",
    "                    [0,1,1,0,0,1,1],\n",
    "                    [0,0,0,1,1,1,1]])\n",
    "\n",
    "# Define Decoder Matrix R\n",
    "Matrix_R = np.array([[0,0,1,0,0,0,0],\n",
    "                    [0,0,0,0,1,0,0],\n",
    "                    [0,0,0,0,0,1,0],\n",
    "                    [0,0,0,0,0,0,1]])"
   ]
  },
  {
   "cell_type": "markdown",
   "metadata": {},
   "source": [
    "### 2.1 Hamming Encoder:"
   ]
  },
  {
   "cell_type": "code",
   "execution_count": 8,
   "metadata": {},
   "outputs": [],
   "source": [
    "class Hamming_Encoder_7_4:\n",
    "    def __init__(self):\n",
    "        \n",
    "        # Define Encoder Matrix G as defined in Task.\n",
    "        self.G = np.array([\n",
    "                    [1,1,0,1], \n",
    "                    [1,0,1,1], \n",
    "                    [1,0,0,0], \n",
    "                    [0,1,1,1], \n",
    "                    [0,1,0,0], \n",
    "                    [0,0,1,0], \n",
    "                    [0,0,0,1]])\n",
    "        \n",
    "        # Define Parity Check Matrix H as described in Task.\n",
    "        self.H = np.array([\n",
    "                    [1,0,1,0,1,0,1],\n",
    "                    [0,1,1,0,0,1,1],\n",
    "                    [0,0,0,1,1,1,1]])\n",
    "    \n",
    "    # Encoder function:    \n",
    "    def encoder(self, value):\n",
    "        # Value must be a 4-bit binary value. Check len to gurantee a list of four entries.\n",
    "        if (len(value) != 4) & (type(value) != list):\n",
    "            raise ValueError(\"Value must be of 4-bit list of binary values!\")\n",
    "        \n",
    "        # Reshape binary vector to (4,1) for proper multiplication as encoder matrix G has the dimensions (7,4)\n",
    "        encode_vector = np.array(value).reshape((4,1))\n",
    "        \n",
    "        # Create codeword by computing dot product of G and w as described in task.\n",
    "        # Apply %2 on the dorproduct for binary encoding (Source?)\n",
    "        self.codeword_c = np.dot(self.G, encode_vector) % 2 # %2 for binary decoding! => Source\n",
    "        \n",
    "        #returns a codeword that is (7,1) vector\n",
    "        return self.codeword_c\n",
    "        \n",
    "    # Parity Check funciton:\n",
    "    def parity_check(self):\n",
    "        # Check that codeword is indeed a 7-bit vector.\n",
    "\n",
    "        #########\n",
    "        ######### @Konsti\n",
    "        # Hier auch nochmal checken, dass der Typ & die Dimension korrekt ist - könnte auch anderweitig geändert worden sein\n",
    "        if len(self.codeword_c) != 7:\n",
    "            raise ValueError(\"Codeword must be of 7-bit binary value!\")\n",
    "        \n",
    "        #########\n",
    "        ######### @Konsti\n",
    "        # Wofür wird das hier nochmal gemacht? Sollte das icht oben einfach geprüft werden?\n",
    "        \n",
    "        # Reshape codeword vector for proper multiplciation as parity check matrix H has dimenisons (3,7)\n",
    "        codeword_vector = np.array(self.codeword_c).reshape((7,1))\n",
    "        \n",
    "        #Calculate parity check by computing dort product of H and codeword as described in task\n",
    "        # Apply %2 on the dorproduct for binary encoding (Source?)\n",
    "        parity_result = np.dot(self.H, codeword_vector) % 2\n",
    "        \n",
    "        # Check that result is actully a zero vector.\n",
    "        return np.all(parity_result == 0)\n",
    "            "
   ]
  },
  {
   "cell_type": "markdown",
   "metadata": {},
   "source": [
    "### 2.2 Hamming Decoder"
   ]
  },
  {
   "cell_type": "code",
   "execution_count": 16,
   "metadata": {},
   "outputs": [],
   "source": [
    "# What is the problem with R? How to inherit \n",
    "class Hamming_Decoder_7_4(Hamming_Encoder_7_4):\n",
    "    \n",
    "    def __init__(self):\n",
    "        # Inherit Functions of Encoder Class!\n",
    "        super().__init__()\n",
    "        \n",
    "        #Define Decoder Matrix R as described in description \n",
    "        self.R = np.array([\n",
    "                    [0,0,1,0,0,0,0],\n",
    "                    [0,0,0,0,1,0,0],\n",
    "                    [0,0,0,0,0,1,0],\n",
    "                    [0,0,0,0,0,0,1]])\n",
    "    \n",
    "    # Define decoder function\n",
    "    def decoder(self):\n",
    "        #########\n",
    "        ######### @Konsti\n",
    "        # Hier auch nochmal checken, dass der Typ & die Dimension korrekt ist - könnte auch anderweitig geändert worden sein\n",
    "\n",
    "        #Check that calculated codeword in Hamming Ecoder is of length 7\n",
    "        if len(self.codeword_c) != 7:\n",
    "            raise ValueError(\"Codeword must be a 7-digit binary codeword\")\n",
    "        \n",
    "        # Wofür wird das hier nochmal gemacht? Sollte das icht oben einfach geprüft werden?     \n",
    "\n",
    "        # Reshape codeword vector for proper multiplciation as decoder matrix R has dimenisons (4,7) \n",
    "        codeword_c_vector = np.array(self.codeword_c).reshape((7,1))\n",
    "        \n",
    "        #Decode codeword by computing dot prodcut of R and codeword vector\n",
    "        # Reshape to get identical vector as input\n",
    "        decoded_value = (np.dot(self.R, codeword_c_vector) % 2).reshape((1,4))\n",
    "        \n",
    "        return decoded_value"
   ]
  },
  {
   "cell_type": "markdown",
   "metadata": {},
   "source": [
    "### 2.3"
   ]
  },
  {
   "cell_type": "code",
   "execution_count": 17,
   "metadata": {},
   "outputs": [],
   "source": [
    "vector1 = [1,0,1,0]\n",
    "vector2 = [1,1,1,1]\n",
    "vector3 = [0,0,1,1]\n",
    "vector4 = [1,1,0,0]"
   ]
  },
  {
   "cell_type": "code",
   "execution_count": 18,
   "metadata": {},
   "outputs": [],
   "source": [
    "test1 = Hamming_Encoder_7_4()"
   ]
  },
  {
   "cell_type": "code",
   "execution_count": 19,
   "metadata": {
    "scrolled": true
   },
   "outputs": [
    {
     "data": {
      "text/plain": [
       "array([[1],\n",
       "       [0],\n",
       "       [1],\n",
       "       [1],\n",
       "       [0],\n",
       "       [1],\n",
       "       [0]])"
      ]
     },
     "execution_count": 19,
     "metadata": {},
     "output_type": "execute_result"
    }
   ],
   "source": [
    "test1.encoder(vector1)"
   ]
  },
  {
   "cell_type": "code",
   "execution_count": 20,
   "metadata": {},
   "outputs": [
    {
     "data": {
      "text/plain": [
       "True"
      ]
     },
     "execution_count": 20,
     "metadata": {},
     "output_type": "execute_result"
    }
   ],
   "source": [
    "test1.parity_check()"
   ]
  },
  {
   "cell_type": "code",
   "execution_count": 21,
   "metadata": {},
   "outputs": [],
   "source": [
    "Decoding1 = Hamming_Decoder_7_4"
   ]
  },
  {
   "cell_type": "code",
   "execution_count": 22,
   "metadata": {
    "scrolled": true
   },
   "outputs": [
    {
     "ename": "AttributeError",
     "evalue": "'Hamming_Encoder_7_4' object has no attribute 'R'",
     "output_type": "error",
     "traceback": [
      "\u001b[0;31m---------------------------------------------------------------------------\u001b[0m",
      "\u001b[0;31mAttributeError\u001b[0m                            Traceback (most recent call last)",
      "\u001b[0;32m/var/folders/yn/2tfz0n9x7m3dkwb69m05y8lw0000gn/T/ipykernel_170/807619678.py\u001b[0m in \u001b[0;36m<module>\u001b[0;34m\u001b[0m\n\u001b[0;32m----> 1\u001b[0;31m \u001b[0mDecoding1\u001b[0m\u001b[0;34m.\u001b[0m\u001b[0mdecoder\u001b[0m\u001b[0;34m(\u001b[0m\u001b[0mtest1\u001b[0m\u001b[0;34m)\u001b[0m\u001b[0;34m\u001b[0m\u001b[0;34m\u001b[0m\u001b[0m\n\u001b[0m",
      "\u001b[0;32m/var/folders/yn/2tfz0n9x7m3dkwb69m05y8lw0000gn/T/ipykernel_170/4236732479.py\u001b[0m in \u001b[0;36mdecoder\u001b[0;34m(self)\u001b[0m\n\u001b[1;32m     30\u001b[0m         \u001b[0;31m#Decode codeword by computing dot prodcut of R and codeword vector\u001b[0m\u001b[0;34m\u001b[0m\u001b[0;34m\u001b[0m\u001b[0m\n\u001b[1;32m     31\u001b[0m         \u001b[0;31m# Reshape to get identical vector as input\u001b[0m\u001b[0;34m\u001b[0m\u001b[0;34m\u001b[0m\u001b[0m\n\u001b[0;32m---> 32\u001b[0;31m         \u001b[0mdecoded_value\u001b[0m \u001b[0;34m=\u001b[0m \u001b[0;34m(\u001b[0m\u001b[0mnp\u001b[0m\u001b[0;34m.\u001b[0m\u001b[0mdot\u001b[0m\u001b[0;34m(\u001b[0m\u001b[0mself\u001b[0m\u001b[0;34m.\u001b[0m\u001b[0mR\u001b[0m\u001b[0;34m,\u001b[0m \u001b[0mcodeword_c_vector\u001b[0m\u001b[0;34m)\u001b[0m \u001b[0;34m%\u001b[0m \u001b[0;36m2\u001b[0m\u001b[0;34m)\u001b[0m\u001b[0;34m.\u001b[0m\u001b[0mreshape\u001b[0m\u001b[0;34m(\u001b[0m\u001b[0;34m(\u001b[0m\u001b[0;36m1\u001b[0m\u001b[0;34m,\u001b[0m\u001b[0;36m4\u001b[0m\u001b[0;34m)\u001b[0m\u001b[0;34m)\u001b[0m\u001b[0;34m\u001b[0m\u001b[0;34m\u001b[0m\u001b[0m\n\u001b[0m\u001b[1;32m     33\u001b[0m \u001b[0;34m\u001b[0m\u001b[0m\n\u001b[1;32m     34\u001b[0m         \u001b[0;32mreturn\u001b[0m \u001b[0mdecoded_value\u001b[0m\u001b[0;34m\u001b[0m\u001b[0;34m\u001b[0m\u001b[0m\n",
      "\u001b[0;31mAttributeError\u001b[0m: 'Hamming_Encoder_7_4' object has no attribute 'R'"
     ]
    }
   ],
   "source": [
    "Decoding1.decoder(test1)"
   ]
  },
  {
   "cell_type": "markdown",
   "metadata": {},
   "source": [
    "### Further Testing of Functions"
   ]
  },
  {
   "cell_type": "code",
   "execution_count": null,
   "metadata": {},
   "outputs": [],
   "source": [
    "testvector = [1,1,0,0]"
   ]
  },
  {
   "cell_type": "code",
   "execution_count": null,
   "metadata": {},
   "outputs": [],
   "source": [
    "np.dot(Matrix_G, vector1)%2"
   ]
  },
  {
   "cell_type": "code",
   "execution_count": null,
   "metadata": {},
   "outputs": [],
   "source": [
    "reshapedvector = np.array(vector2).reshape((4,1))\n",
    "reshapedvector"
   ]
  },
  {
   "cell_type": "code",
   "execution_count": null,
   "metadata": {
    "scrolled": true
   },
   "outputs": [],
   "source": [
    "c = np.dot(Matrix_G, reshapedvector) % 2\n",
    "c"
   ]
  },
  {
   "cell_type": "code",
   "execution_count": null,
   "metadata": {
    "scrolled": true
   },
   "outputs": [],
   "source": [
    "check = np.dot(Matrix_H, c) % 2\n",
    "check"
   ]
  },
  {
   "cell_type": "code",
   "execution_count": null,
   "metadata": {
    "scrolled": true
   },
   "outputs": [],
   "source": [
    "np.all(check == 0)"
   ]
  },
  {
   "cell_type": "code",
   "execution_count": null,
   "metadata": {},
   "outputs": [],
   "source": [
    "decode = np.dot(Matrix_R, c).reshape((1,4))\n",
    "print(decode)"
   ]
  },
  {
   "cell_type": "code",
   "execution_count": null,
   "metadata": {},
   "outputs": [],
   "source": []
  },
  {
   "cell_type": "markdown",
   "metadata": {},
   "source": [
    "# JONATHAN CODE"
   ]
  },
  {
   "cell_type": "markdown",
   "metadata": {},
   "source": [
    "### Things to add: \n",
    "- Function to check the input vectors (right length and only numeric values)\n",
    "- Errors in case of an Error in the Hemming Code\n"
   ]
  },
  {
   "cell_type": "code",
   "execution_count": 23,
   "metadata": {},
   "outputs": [],
   "source": [
    "import numpy as np"
   ]
  },
  {
   "cell_type": "code",
   "execution_count": 24,
   "metadata": {},
   "outputs": [],
   "source": [
    "# Define Generator Matrix G\n",
    "Matrix_G = np.array([[1,1,0,1], \n",
    "                    [1,0,1,1], \n",
    "                    [1,0,0,0], \n",
    "                    [0,1,1,1], \n",
    "                    [0,1,0,0], \n",
    "                    [0,0,1,0], \n",
    "                    [0,0,0,1]])\n",
    "\n",
    "# Define Parity-Check Matrix H\n",
    "Matrix_H = np.array([[1,0,1,0,1,0,1],\n",
    "                    [0,1,1,0,0,1,1],\n",
    "                    [0,0,0,1,1,1,1]])\n",
    "\n",
    "# Define Decoder Matrix R\n",
    "Matrix_R = np.array([[0,0,1,0,0,0,0],\n",
    "                    [0,0,0,0,1,0,0],\n",
    "                    [0,0,0,0,0,1,0],\n",
    "                    [0,0,0,0,0,0,1]])"
   ]
  },
  {
   "cell_type": "markdown",
   "metadata": {},
   "source": [
    "### 2.1 Encoder"
   ]
  },
  {
   "cell_type": "code",
   "execution_count": 28,
   "metadata": {},
   "outputs": [],
   "source": [
    "class Hamming_Encoder:\n",
    "    def __init__(self):\n",
    "        \n",
    "        # Define Encoder Matrix G as defined in Task.\n",
    "        self.G = np.array([\n",
    "                    [1,1,0,1], \n",
    "                    [1,0,1,1], \n",
    "                    [1,0,0,0], \n",
    "                    [0,1,1,1], \n",
    "                    [0,1,0,0], \n",
    "                    [0,0,1,0], \n",
    "                    [0,0,0,1]])\n",
    "        \n",
    "        # Define Parity Check Matrix H as described in Task.\n",
    "        self.H = np.array([\n",
    "                    [1,0,1,0,1,0,1],\n",
    "                    [0,1,1,0,0,1,1],\n",
    "                    [0,0,0,1,1,1,1]])\n",
    "    \n",
    "    # Encoder function:    \n",
    "    def encoder(self, value):\n",
    "        # Value must be a 4-bit binary value. Check len to gurantee a list of four entries.\n",
    "        if len(value) != 4 and type(value) != list:\n",
    "            raise ValueError(\"Value must be of 4-bit list of binary values!\")\n",
    "        \n",
    "        encode_vector = np.array(value)\n",
    "        \n",
    "        # Create codeword by computing dot product of G and w as described in task.\n",
    "        # Apply %2 on the dorproduct for binary encoding (Source?)\n",
    "        self.codeword_c = np.dot(self.G, encode_vector) % 2 # %2 for binary decoding! => Source\n",
    "        \n",
    "        self.parity_check()\n",
    "        \n",
    "        #returns a codeword that is (7,1) vector\n",
    "        print(f\"The binary codeword is: {self.codeword_c}\")\n",
    "\n",
    "        ############\n",
    "        ############\n",
    "        #Warum hier nicht returnen?\n",
    "\n",
    "        #return self.codeword_c\n",
    "        \n",
    "    # Parity Check funciton:\n",
    "    def parity_check(self):\n",
    "        # Check that codeword is indeed a 7-bit vector.\n",
    "        if len(self.codeword_c) != 7:\n",
    "            raise ValueError(\"Codeword must be of 7-bit binary value!\")\n",
    "        \n",
    "        # Reshape codeword vector for proper multiplciation as parity check matrix H has dimenisons (3,7)\n",
    "        codeword_vector = np.array(self.codeword_c)\n",
    "        \n",
    "        #Calculate parity check by computing dort product of H and codeword as described in task\n",
    "        # Apply %2 on the dorproduct for binary encoding (Source?)\n",
    "        parity_result = np.dot(self.H, codeword_vector) % 2\n",
    "        \n",
    "        # Check that result is actully a zero vector.\n",
    "        result = np.all(parity_result == 0)\n",
    "        print(f\"The result of the parity check is: {result}\")\n",
    "\n",
    "        ############\n",
    "        ############\n",
    "        #Warum hier nicht returnen?\n",
    "\n",
    "        #return result\n",
    "    \n",
    "    def get_codeword(self, value): \n",
    "        if len(value) != 4 and type(value) != list:\n",
    "            raise ValueError(\"Value must be of 4-bit list of binary values!\")\n",
    "        \n",
    "        encode_vector = np.array(value)\n",
    "        # Create codeword by computing dot product of G and w as described in task.\n",
    "        # Apply %2 on the dorproduct for binary encoding (Source?)\n",
    "        self.codeword = np.dot(self.G, encode_vector) % 2 # %2 for binary decoding! => Source\n",
    "        return codeword"
   ]
  },
  {
   "cell_type": "markdown",
   "metadata": {},
   "source": [
    "### Decoder"
   ]
  },
  {
   "cell_type": "code",
   "execution_count": 29,
   "metadata": {},
   "outputs": [],
   "source": [
    "# What is the problem with R? How to inherit \n",
    "class Hamming_Decoder():\n",
    "    \n",
    "    def __init__(self):\n",
    "        \n",
    "        #Define Decoder Matrix R as described in description \n",
    "        self.R = np.array([\n",
    "                    [0,0,1,0,0,0,0],\n",
    "                    [0,0,0,0,1,0,0],\n",
    "                    [0,0,0,0,0,1,0],\n",
    "                    [0,0,0,0,0,0,1]])\n",
    "    \n",
    "    # Define decoder function\n",
    "    def decoder(self, codeword):\n",
    "        \n",
    "        encoder_instance = Hamming_Encoder()\n",
    "        \n",
    "        codeword = encoder_instance.get_codeword()\n",
    "        #Check that calculated codeword in Hamming Ecoder is of length 7\n",
    "        if len(codeword) != 7:\n",
    "            raise ValueError(\"Codeword must be a 7-digit binary codeword\")\n",
    "            \n",
    "        # Reshape codeword vector for proper multiplciation as decoder matrix R has dimenisons (4,7) \n",
    "        codeword_vector = np.array(self.codeword_c)\n",
    "        \n",
    "        #Decode codeword by computing dot prodcut of R and codeword vector\n",
    "        # Reshape to get identical vector as input\n",
    "        decoded_value = (np.dot(self.R, codeword_c_vector) % 2)\n",
    "        \n",
    "        return decoded_value"
   ]
  },
  {
   "cell_type": "markdown",
   "metadata": {},
   "source": [
    "### Two in one"
   ]
  },
  {
   "cell_type": "code",
   "execution_count": 40,
   "metadata": {},
   "outputs": [],
   "source": [
    "class Hemming_Code:\n",
    "    \n",
    "    def __init__(self):\n",
    "        \n",
    "        # Define Encoder Matrix G as defined in Task.\n",
    "        self.G = np.array([\n",
    "                    [1,1,0,1], \n",
    "                    [1,0,1,1], \n",
    "                    [1,0,0,0], \n",
    "                    [0,1,1,1], \n",
    "                    [0,1,0,0], \n",
    "                    [0,0,1,0], \n",
    "                    [0,0,0,1]])\n",
    "        \n",
    "        # Define Parity Check Matrix H as described in Task.\n",
    "        self.H = np.array([\n",
    "                    [1,0,1,0,1,0,1],\n",
    "                    [0,1,1,0,0,1,1],\n",
    "                    [0,0,0,1,1,1,1]])\n",
    "        \n",
    "        # Define Decoder Matrix R as described in description  \n",
    "        self.R = np.array([\n",
    "                    [0,0,1,0,0,0,0],\n",
    "                    [0,0,0,0,1,0,0],\n",
    "                    [0,0,0,0,0,1,0],\n",
    "                    [0,0,0,0,0,0,1]])\n",
    "        \n",
    "        self.codeword = []\n",
    "    \n",
    "    \n",
    "    # Encoder function:    \n",
    "    def encode(self, value):\n",
    "        # Value must be a 4-bit binary value. Check len to gurantee a list of four entries.\n",
    "        if len(value) != 4 and type(value) != list:\n",
    "            raise ValueError(\"Value must be of 4-bit list of binary values!\")\n",
    "        \n",
    "        encode_vector = np.array(value)\n",
    "        \n",
    "        # Create codeword by computing dot product of G and w as described in task.\n",
    "        # Apply %2 on the dorproduct for binary encoding (Source?)\n",
    "        self.codeword = np.dot(self.G, encode_vector) % 2 # %2 for binary decoding! => Source\n",
    "        \n",
    "        self.parity_check()\n",
    "        \n",
    "        #returns a codeword that is (7,1) vector\n",
    "        print(f\"The encoded binary codeword is: {self.codeword}\")\n",
    "        #return self.codeword_c\n",
    "        \n",
    "    # Parity Check funciton:\n",
    "    def parity_check(self):\n",
    "        # Check that codeword is indeed a 7-bit vector.\n",
    "        if len(self.codeword) != 7:\n",
    "            raise ValueError(\"Codeword must be of 7-bit binary value!\")\n",
    "        \n",
    "        # Reshape codeword vector for proper multiplciation as parity check matrix H has dimenisons (3,7)\n",
    "        codeword_vector = np.array(self.codeword)\n",
    "        \n",
    "        #Calculate parity check by computing dort product of H and codeword as described in task\n",
    "        # Apply %2 on the dorproduct for binary encoding (Source?)\n",
    "        parity_result = np.dot(self.H, codeword_vector) % 2\n",
    "        \n",
    "        # Check that result is actully a zero vector.\n",
    "        result = np.all(parity_result == 0)\n",
    "        print(f\"The result of the parity check is: {result}\")\n",
    "        #return result\n",
    "    \n",
    "    \n",
    "    # Define decoder function\n",
    "    def decode(self):\n",
    "        \n",
    "        #Check that calculated codeword in Hamming Ecoder is of length 7\n",
    "        if len(self.codeword) != 7:\n",
    "            raise ValueError(\"Codeword must be a 7-digit binary codeword\")\n",
    "            \n",
    "        # Reshape codeword vector for proper multiplciation as decoder matrix R has dimenisons (4,7) \n",
    "        codeword = np.array(self.codeword)\n",
    "        \n",
    "        #Decode codeword by computing dot prodcut of R and codeword vector\n",
    "        # Reshape to get identical vector as input\n",
    "        decoded_value = (np.dot(self.R, codeword) % 2)\n",
    "        \n",
    "        print(f\"The decoded original word is: {decoded_value}\")\n",
    "        #return decoded_value\n",
    "        \n",
    "    def decode_input(self, input_codeword):\n",
    "\n",
    "        ############\n",
    "        ############\n",
    "        #Hier wird der input garnicht benutzt...\n",
    "        \n",
    "        #Check that calculated codeword in Hamming Ecoder is of length 7\n",
    "        if len(self.codeword) != 7:\n",
    "            raise ValueError(\"Codeword must be a 7-digit binary codeword\")\n",
    "            \n",
    "        # Reshape codeword vector for proper multiplciation as decoder matrix R has dimenisons (4,7) \n",
    "        codeword = np.array(self.codeword)\n",
    "        \n",
    "        #Decode codeword by computing dot prodcut of R and codeword vector\n",
    "        # Reshape to get identical vector as input\n",
    "        decoded_value = (np.dot(self.R, codeword) % 2)\n",
    "        \n",
    "        print(f\"The decoded original word is: {decoded_value}\")\n",
    "        #return decoded_value"
   ]
  },
  {
   "cell_type": "code",
   "execution_count": 30,
   "metadata": {},
   "outputs": [],
   "source": [
    "import numpy as np\n",
    "hemming_code = Hemming_Code()"
   ]
  },
  {
   "cell_type": "code",
   "execution_count": 37,
   "metadata": {},
   "outputs": [],
   "source": [
    "vector1 = [1,0,1,0]\n",
    "vector2 = [1,1,1,1]\n",
    "vector3 = [0,0,1,1]\n",
    "vector4 = [1,1,0,0]"
   ]
  },
  {
   "cell_type": "code",
   "execution_count": 38,
   "metadata": {},
   "outputs": [
    {
     "name": "stdout",
     "output_type": "stream",
     "text": [
      "The result of the parity check is: True\n",
      "The encoded binary codeword is: [1 1 1 1 1 1 1]\n"
     ]
    }
   ],
   "source": [
    "hemming_code.encode(vector2)"
   ]
  },
  {
   "cell_type": "code",
   "execution_count": 39,
   "metadata": {},
   "outputs": [
    {
     "name": "stdout",
     "output_type": "stream",
     "text": [
      "The decoded original word is: [1 1 1 1]\n"
     ]
    }
   ],
   "source": [
    "#hemming_code.decode()\n",
    "hemming_code.decode_input(\"[1 0 0 0 0 1 1]\")"
   ]
  },
  {
   "cell_type": "code",
   "execution_count": null,
   "metadata": {},
   "outputs": [],
   "source": []
  }
 ],
 "metadata": {
  "kernelspec": {
   "display_name": "Python 3",
   "language": "python",
   "name": "python3"
  },
  "language_info": {
   "codemirror_mode": {
    "name": "ipython",
    "version": 3
   },
   "file_extension": ".py",
   "mimetype": "text/x-python",
   "name": "python",
   "nbconvert_exporter": "python",
   "pygments_lexer": "ipython3",
   "version": "3.9.7"
  }
 },
 "nbformat": 4,
 "nbformat_minor": 4
}

{
 "cells": [
  {
   "cell_type": "markdown",
   "metadata": {},
   "source": [
    "# Final Project - Foundations of Data Science: Programming and Linear Algebra (CDSCO1001U)"
   ]
  },
  {
   "cell_type": "markdown",
   "metadata": {},
   "source": [
    "## Question 2: Hammins's Code"
   ]
  },
  {
   "cell_type": "code",
   "execution_count": 1,
   "metadata": {},
   "outputs": [],
   "source": [
    "import numpy as np"
   ]
  },
  {
   "cell_type": "markdown",
   "metadata": {},
   "source": [
    "### Define relevant matrices"
   ]
  },
  {
   "cell_type": "code",
   "execution_count": 6,
   "metadata": {},
   "outputs": [],
   "source": [
    "# Define Generator Matrix G\n",
    "Matrix_G = np.array([[1,1,0,1], \n",
    "                    [1,0,1,1], \n",
    "                    [1,0,0,0], \n",
    "                    [0,1,1,1], \n",
    "                    [0,1,0,0], \n",
    "                    [0,0,1,0], \n",
    "                    [0,0,0,1]])\n",
    "\n",
    "# Define Parity-Check Matrix H\n",
    "Matrix_H = np.array([[1,0,1,0,1,0,1],\n",
    "                    [0,1,1,0,0,1,1],\n",
    "                    [0,0,0,1,1,1,1]])\n",
    "\n",
    "# Define Decoder Matrix R\n",
    "Matrix_R = np.array([[0,0,1,0,0,0,0],\n",
    "                    [0,0,0,0,1,0,0],\n",
    "                    [0,0,0,0,0,1,0],\n",
    "                    [0,0,0,0,0,0,1]])"
   ]
  },
  {
   "cell_type": "markdown",
   "metadata": {},
   "source": [
    "### 2.1 Hamming Encoder:"
   ]
  },
  {
   "cell_type": "code",
   "execution_count": 69,
   "metadata": {},
   "outputs": [],
   "source": [
    "class Hamming_Encoder_7_4:\n",
    "    def __init__(self):\n",
    "        \n",
    "        # Define Encoder Matrix G as defined in Task.\n",
    "        self.G = np.array([[1,1,0,1], \n",
    "                    [1,0,1,1], \n",
    "                    [1,0,0,0], \n",
    "                    [0,1,1,1], \n",
    "                    [0,1,0,0], \n",
    "                    [0,0,1,0], \n",
    "                    [0,0,0,1]])\n",
    "        \n",
    "        # Define Parity Check Matrix H as described in Task.\n",
    "        self.H = np.array([[1,0,1,0,1,0,1],\n",
    "                    [0,1,1,0,0,1,1],\n",
    "                    [0,0,0,1,1,1,1]])\n",
    "    \n",
    "    # Encoder function:    \n",
    "    def encoder(self, value):\n",
    "        # Value must be a 4-bit binary value. Check len to gurantee a list of four entries.\n",
    "        if len(value) != 4 & type(value) != list:\n",
    "            raise ValueError(\"Value must be of 4-bit list of binary values!\")\n",
    "        \n",
    "        # Reshape binray vector to (4,1) for proper multiplication as encoder matrix G has the dimensions (7,4)\n",
    "        encode_vector = np.array(value).reshape((4,1))\n",
    "        \n",
    "        # Create codeword by computing dot product of G and w as described in taks.\n",
    "        # Apply %2 on the dorproduct for binary encoding (Source?)\n",
    "        self.codeword_c = np.dot(self.G, encode_vector) % 2 # %2 for binary decoding! => Source\n",
    "        \n",
    "        #returns a codeword that is (7,1) vector\n",
    "        return self.codeword_c\n",
    "        \n",
    "    # Parity Check funciton:\n",
    "    def parity_check(self):\n",
    "        # Check that codeword is indeed a 7-bit vector.\n",
    "        if len(self.codeword_c) != 7:\n",
    "            raise ValueError(\"Codeword must be of 7-bit binary value!\")\n",
    "        \n",
    "        # Reshape codeword vector for proper multiplciation as parity check matrix H has dimenisons (3,7)\n",
    "        codeword_vector = np.array(self.codeword_c).reshape((7,1))\n",
    "        \n",
    "        #Calculate parity check by computing dort product of H and codeword as described in task\n",
    "        # Apply %2 on the dorproduct for binary encoding (Source?)\n",
    "        parity_result = np.dot(self.H, codeword_vector) % 2\n",
    "        \n",
    "        # Check that result is actully a zero vector.\n",
    "        return np.all(parity_result == 0)\n",
    "            "
   ]
  },
  {
   "cell_type": "markdown",
   "metadata": {},
   "source": [
    "### 2.2 Hamming Decoder"
   ]
  },
  {
   "cell_type": "code",
   "execution_count": 70,
   "metadata": {},
   "outputs": [],
   "source": [
    "# What is the problem with R? How to inherit \n",
    "class Hamming_Decoder_7_4(Hamming_Encoder_7_4):\n",
    "    \n",
    "    def __init__(self):\n",
    "        # Inherit Functions of Encoder Class!\n",
    "        super().__init__()\n",
    "        \n",
    "        #Define Decoder Matrix R as described in description \n",
    "        self.R = np.array([[0,0,1,0,0,0,0],\n",
    "                    [0,0,0,0,1,0,0],\n",
    "                    [0,0,0,0,0,1,0],\n",
    "                    [0,0,0,0,0,0,1]])\n",
    "    \n",
    "    # Define decoder function\n",
    "    def decoder(self):\n",
    "        #Check that calculated codeword in Hamming Ecoder is of length 7\n",
    "        if len(self.codeword_c) != 7:\n",
    "            raise ValueError(\"Codeword must be a 7-digit binary codeword\")\n",
    "            \n",
    "        # Reshape codeword vector for proper multiplciation as decoder matrix R has dimenisons (4,7) \n",
    "        codeword_c_vector = np.array(self.codeword_c).reshape((7,1))\n",
    "        \n",
    "        #Decode codeword by computing dot prodcut of R and codeword vector\n",
    "        # Reshape to get identical vector as input\n",
    "        decoded_value = (np.dot(self.R, codeword_c_vector) % 2).reshape((1,4))\n",
    "        \n",
    "        return decoded_value"
   ]
  },
  {
   "cell_type": "markdown",
   "metadata": {},
   "source": [
    "### 2.3"
   ]
  },
  {
   "cell_type": "code",
   "execution_count": 2,
   "metadata": {},
   "outputs": [],
   "source": [
    "vector1 = [1,0,1,0]\n",
    "vector2 = [1,1,1,1]\n",
    "vector3 = [0,0,1,1]\n",
    "vector4 = [1,1,0,0]"
   ]
  },
  {
   "cell_type": "code",
   "execution_count": 71,
   "metadata": {},
   "outputs": [],
   "source": [
    "test1 = Hamming_Encoder_7_4()"
   ]
  },
  {
   "cell_type": "code",
   "execution_count": 72,
   "metadata": {
    "scrolled": true
   },
   "outputs": [
    {
     "data": {
      "text/plain": [
       "array([[1],\n",
       "       [0],\n",
       "       [1],\n",
       "       [1],\n",
       "       [0],\n",
       "       [1],\n",
       "       [0]])"
      ]
     },
     "execution_count": 72,
     "metadata": {},
     "output_type": "execute_result"
    }
   ],
   "source": [
    "test1.encoder(vector1)"
   ]
  },
  {
   "cell_type": "code",
   "execution_count": 73,
   "metadata": {},
   "outputs": [
    {
     "data": {
      "text/plain": [
       "True"
      ]
     },
     "execution_count": 73,
     "metadata": {},
     "output_type": "execute_result"
    }
   ],
   "source": [
    "test1.parity_check()"
   ]
  },
  {
   "cell_type": "code",
   "execution_count": 74,
   "metadata": {},
   "outputs": [],
   "source": [
    "Decoding1 = Hamming_Decoder_7_4"
   ]
  },
  {
   "cell_type": "code",
   "execution_count": 75,
   "metadata": {
    "scrolled": true
   },
   "outputs": [
    {
     "ename": "AttributeError",
     "evalue": "'Hamming_Encoder_7_4' object has no attribute 'R'",
     "output_type": "error",
     "traceback": [
      "\u001b[0;31m---------------------------------------------------------------------------\u001b[0m",
      "\u001b[0;31mAttributeError\u001b[0m                            Traceback (most recent call last)",
      "\u001b[0;32m<ipython-input-75-5b0d2473ac51>\u001b[0m in \u001b[0;36m<module>\u001b[0;34m\u001b[0m\n\u001b[0;32m----> 1\u001b[0;31m \u001b[0mDecoding1\u001b[0m\u001b[0;34m.\u001b[0m\u001b[0mdecoder\u001b[0m\u001b[0;34m(\u001b[0m\u001b[0mtest1\u001b[0m\u001b[0;34m)\u001b[0m\u001b[0;34m\u001b[0m\u001b[0;34m\u001b[0m\u001b[0m\n\u001b[0m",
      "\u001b[0;32m<ipython-input-70-eebf70c851b6>\u001b[0m in \u001b[0;36mdecoder\u001b[0;34m(self)\u001b[0m\n\u001b[1;32m     15\u001b[0m \u001b[0;34m\u001b[0m\u001b[0m\n\u001b[1;32m     16\u001b[0m         \u001b[0mcodeword_c_vector\u001b[0m \u001b[0;34m=\u001b[0m \u001b[0mnp\u001b[0m\u001b[0;34m.\u001b[0m\u001b[0marray\u001b[0m\u001b[0;34m(\u001b[0m\u001b[0mself\u001b[0m\u001b[0;34m.\u001b[0m\u001b[0mcodeword_c\u001b[0m\u001b[0;34m)\u001b[0m\u001b[0;34m.\u001b[0m\u001b[0mreshape\u001b[0m\u001b[0;34m(\u001b[0m\u001b[0;34m(\u001b[0m\u001b[0;36m7\u001b[0m\u001b[0;34m,\u001b[0m\u001b[0;36m1\u001b[0m\u001b[0;34m)\u001b[0m\u001b[0;34m)\u001b[0m\u001b[0;34m\u001b[0m\u001b[0;34m\u001b[0m\u001b[0m\n\u001b[0;32m---> 17\u001b[0;31m         \u001b[0mdecoded_value\u001b[0m \u001b[0;34m=\u001b[0m \u001b[0;34m(\u001b[0m\u001b[0mnp\u001b[0m\u001b[0;34m.\u001b[0m\u001b[0mdot\u001b[0m\u001b[0;34m(\u001b[0m\u001b[0mself\u001b[0m\u001b[0;34m.\u001b[0m\u001b[0mR\u001b[0m\u001b[0;34m,\u001b[0m \u001b[0mcodeword_c_vector\u001b[0m\u001b[0;34m)\u001b[0m \u001b[0;34m%\u001b[0m \u001b[0;36m2\u001b[0m\u001b[0;34m)\u001b[0m\u001b[0;34m.\u001b[0m\u001b[0mreshape\u001b[0m\u001b[0;34m(\u001b[0m\u001b[0;34m(\u001b[0m\u001b[0;36m1\u001b[0m\u001b[0;34m,\u001b[0m\u001b[0;36m4\u001b[0m\u001b[0;34m)\u001b[0m\u001b[0;34m)\u001b[0m\u001b[0;34m\u001b[0m\u001b[0;34m\u001b[0m\u001b[0m\n\u001b[0m\u001b[1;32m     18\u001b[0m \u001b[0;34m\u001b[0m\u001b[0m\n\u001b[1;32m     19\u001b[0m         \u001b[0;32mreturn\u001b[0m \u001b[0mdecoded_value\u001b[0m\u001b[0;34m\u001b[0m\u001b[0;34m\u001b[0m\u001b[0m\n",
      "\u001b[0;31mAttributeError\u001b[0m: 'Hamming_Encoder_7_4' object has no attribute 'R'"
     ]
    }
   ],
   "source": [
    "Decoding1.decoder(test1)"
   ]
  },
  {
   "cell_type": "markdown",
   "metadata": {},
   "source": [
    "### Further Testing of Functions"
   ]
  },
  {
   "cell_type": "code",
   "execution_count": 3,
   "metadata": {},
   "outputs": [],
   "source": [
    "testvector = [1,1,0,0]"
   ]
  },
  {
   "cell_type": "code",
   "execution_count": 4,
   "metadata": {},
   "outputs": [
    {
     "data": {
      "text/plain": [
       "array([[1],\n",
       "       [1],\n",
       "       [1],\n",
       "       [1]])"
      ]
     },
     "execution_count": 4,
     "metadata": {},
     "output_type": "execute_result"
    }
   ],
   "source": [
    "reshapedvector = np.array(vector2).reshape((4,1))\n",
    "reshapedvector"
   ]
  },
  {
   "cell_type": "code",
   "execution_count": 7,
   "metadata": {
    "scrolled": true
   },
   "outputs": [
    {
     "data": {
      "text/plain": [
       "array([[1],\n",
       "       [1],\n",
       "       [1],\n",
       "       [1],\n",
       "       [1],\n",
       "       [1],\n",
       "       [1]])"
      ]
     },
     "execution_count": 7,
     "metadata": {},
     "output_type": "execute_result"
    }
   ],
   "source": [
    "c = np.dot(Matrix_G, reshapedvector) % 2\n",
    "c"
   ]
  },
  {
   "cell_type": "code",
   "execution_count": 8,
   "metadata": {
    "scrolled": true
   },
   "outputs": [
    {
     "data": {
      "text/plain": [
       "array([[0],\n",
       "       [0],\n",
       "       [0]])"
      ]
     },
     "execution_count": 8,
     "metadata": {},
     "output_type": "execute_result"
    }
   ],
   "source": [
    "check = np.dot(Matrix_H, c) % 2\n",
    "check"
   ]
  },
  {
   "cell_type": "code",
   "execution_count": 56,
   "metadata": {
    "scrolled": true
   },
   "outputs": [
    {
     "data": {
      "text/plain": [
       "True"
      ]
     },
     "execution_count": 56,
     "metadata": {},
     "output_type": "execute_result"
    }
   ],
   "source": [
    "np.all(check == 0)"
   ]
  },
  {
   "cell_type": "code",
   "execution_count": 57,
   "metadata": {},
   "outputs": [
    {
     "name": "stdout",
     "output_type": "stream",
     "text": [
      "[[1 1 1 1]]\n"
     ]
    }
   ],
   "source": [
    "decode = np.dot(Matrix_R, c).reshape((1,4))\n",
    "print(decode)"
   ]
  },
  {
   "cell_type": "code",
   "execution_count": null,
   "metadata": {},
   "outputs": [],
   "source": []
  }
 ],
 "metadata": {
  "kernelspec": {
   "display_name": "Python 3",
   "language": "python",
   "name": "python3"
  },
  "language_info": {
   "codemirror_mode": {
    "name": "ipython",
    "version": 3
   },
   "file_extension": ".py",
   "mimetype": "text/x-python",
   "name": "python",
   "nbconvert_exporter": "python",
   "pygments_lexer": "ipython3",
   "version": "3.8.5"
  }
 },
 "nbformat": 4,
 "nbformat_minor": 4
}
